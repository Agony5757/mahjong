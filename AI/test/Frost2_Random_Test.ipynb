{
 "cells": [
  {
   "cell_type": "code",
   "execution_count": 1,
   "metadata": {},
   "outputs": [],
   "source": [
    "import numpy as np\n",
    "from copy import deepcopy\n",
    "from buffer import MahjongBufferFrost2\n",
    "import MahjongPy as mp\n",
    "from wrapper import EnvMahjong2\n",
    "import scipy.io as sio\n",
    "from datetime import datetime\n",
    "import time\n",
    "\n",
    "now = datetime.now()\n",
    "datetime_str = now.strftime(\"%Y%m%d-%H%M%S\")\n",
    "\n",
    "env = EnvMahjong2()\n",
    "\n",
    "num_tile_type = env.matrix_feature_size[0]\n",
    "num_each_tile = env.matrix_feature_size[1]\n",
    "num_vf = env.vector_feature_size\n",
    "\n",
    "memories = [MahjongBufferFrost2(size=1024, num_tile_type=num_tile_type, num_each_tile=num_each_tile,\n",
    "                                num_vf=num_vf) for i in range(4)]\n",
    "\n",
    "\n",
    "episode_start = 256\n",
    "episode_savebuffer = 128\n",
    "mu_size = 40"
   ]
  },
  {
   "cell_type": "code",
   "execution_count": 18,
   "metadata": {},
   "outputs": [],
   "source": [
    "import pickle\n",
    "dict = {\"S\":memories[1].S, \"s\":memories[1].s}"
   ]
  },
  {
   "cell_type": "code",
   "execution_count": 19,
   "metadata": {},
   "outputs": [],
   "source": [
    "f = open(\"./test.pkl\", 'wb')"
   ]
  },
  {
   "cell_type": "code",
   "execution_count": 20,
   "metadata": {},
   "outputs": [],
   "source": [
    "pickle.dump(dict, f)"
   ]
  },
  {
   "cell_type": "code",
   "execution_count": 21,
   "metadata": {},
   "outputs": [],
   "source": [
    "f = open(\"./test.pkl\", 'rb')"
   ]
  },
  {
   "cell_type": "code",
   "execution_count": 22,
   "metadata": {},
   "outputs": [],
   "source": [
    "data = pickle.load(f)"
   ]
  },
  {
   "cell_type": "code",
   "execution_count": null,
   "metadata": {},
   "outputs": [],
   "source": []
  },
  {
   "cell_type": "markdown",
   "metadata": {},
   "source": [
    "##  以下的代码可以让Agent读取保存的对局buffer， 如果comment掉就可以让Agent从头开始训练"
   ]
  },
  {
   "cell_type": "code",
   "execution_count": 2,
   "metadata": {},
   "outputs": [],
   "source": [
    "# # example \n",
    "# for i in range(4):\n",
    "#     buffer_path =  \"./buffer/Agent{}\".format(i) + \"-MahjongBufferFrost220190521-155324.npz\"\n",
    "#     agents[i].memory.load(buffer_path)"
   ]
  },
  {
   "cell_type": "markdown",
   "metadata": {},
   "source": [
    "##  以下的代码可以让Agent读取保存的网络， 如果comment掉就可以让Agent从头开始训练"
   ]
  },
  {
   "cell_type": "code",
   "execution_count": 3,
   "metadata": {},
   "outputs": [],
   "source": [
    "# # example \n",
    "# for i in range(4):\n",
    "#     model_path =  \"../log/Agent{}\".foramt(i) + \"-20190501-175203-Game0/naiveAI.ckpt\"\n",
    "#     agents[i].nn.restore(model_path)\n",
    "    "
   ]
  },
  {
   "cell_type": "markdown",
   "metadata": {},
   "source": []
  },
  {
   "cell_type": "code",
   "execution_count": 40,
   "metadata": {},
   "outputs": [],
   "source": [
    "stop_action = mp.Action.Chi\n",
    "Phases = (\"P1_ACTION\", \"P2_ACTION\", \"P3_ACTION\", \"P4_ACTION\", \"P1_RESPONSE\", \"P2_RESPONSE\", \"P3_RESPONSE\",\n",
    "            \"P4_RESPONSE\", \"P1_抢杠RESPONSE\", \"P2_抢杠RESPONSE\", \"P3_抢杠RESPONSE\", \"P4_抢杠RESPONSE\",\n",
    "            \"P1_抢暗杠RESPONSE\", \"P2_抢暗杠RESPONSE\", \" P3_抢暗杠RESPONSE\", \" P4_抢暗杠RESPONSE\", \"GAME_OVER\",\n",
    "            \"P1_DRAW, P2_DRAW, P3_DRAW, P4_DRAW\")\n"
   ]
  },
  {
   "cell_type": "code",
   "execution_count": 61,
   "metadata": {},
   "outputs": [
    {
     "name": "stdout",
     "output_type": "stream",
     "text": [
      "Start!\n",
      " Game 0----- Player 1 Chi -----\n",
      "BaseTile._1m\n",
      "BaseTile._2m\n",
      "BaseTile._3m\n"
     ]
    },
    {
     "ename": "NameError",
     "evalue": "name 'unf' is not defined",
     "output_type": "error",
     "traceback": [
      "\u001b[1;31m---------------------------------------------------------------------------\u001b[0m",
      "\u001b[1;31mNameError\u001b[0m                                 Traceback (most recent call last)",
      "\u001b[1;32m<ipython-input-61-f77911fecf9b>\u001b[0m in \u001b[0;36m<module>\u001b[1;34m\u001b[0m\n\u001b[0;32m    194\u001b[0m             \u001b[1;31m# table change after all players making actions\u001b[0m\u001b[1;33m\u001b[0m\u001b[1;33m\u001b[0m\u001b[0m\n\u001b[0;32m    195\u001b[0m             \u001b[1;32mif\u001b[0m \u001b[0mstop_judge\u001b[0m\u001b[1;33m:\u001b[0m\u001b[1;33m\u001b[0m\u001b[0m\n\u001b[1;32m--> 196\u001b[1;33m                 \u001b[0mprint\u001b[0m\u001b[1;33m(\u001b[0m\u001b[0munf\u001b[0m\u001b[1;33m)\u001b[0m\u001b[1;33m\u001b[0m\u001b[0m\n\u001b[0m\u001b[0;32m    197\u001b[0m                 \u001b[0mfulus\u001b[0m \u001b[1;33m=\u001b[0m \u001b[0menv\u001b[0m\u001b[1;33m.\u001b[0m\u001b[0mt\u001b[0m\u001b[1;33m.\u001b[0m\u001b[0mplayers\u001b[0m\u001b[1;33m[\u001b[0m\u001b[0mchiplayerNo\u001b[0m\u001b[1;33m]\u001b[0m\u001b[1;33m.\u001b[0m\u001b[0mfulus\u001b[0m\u001b[1;33m\u001b[0m\u001b[0m\n\u001b[0;32m    198\u001b[0m                 \u001b[0mprint\u001b[0m\u001b[1;33m(\u001b[0m\u001b[1;34m'----- player {} fulu ------'\u001b[0m\u001b[1;33m.\u001b[0m\u001b[0mformat\u001b[0m\u001b[1;33m(\u001b[0m\u001b[0mchiplayerNo\u001b[0m\u001b[1;33m)\u001b[0m\u001b[1;33m)\u001b[0m\u001b[1;33m\u001b[0m\u001b[0m\n",
      "\u001b[1;31mNameError\u001b[0m: name 'unf' is not defined"
     ]
    }
   ],
   "source": [
    "stop_judge = 0\n",
    "n_games = 1000000\n",
    "\n",
    "\n",
    "process_time = 0\n",
    "learn_time = 0 \n",
    "select_time = 0\n",
    "all_time = 0\n",
    "play_time = 0\n",
    "response_time = 0\n",
    "copy_time = 0\n",
    "done_time = 0\n",
    "\n",
    "print(\"Start!\")\n",
    "\n",
    "for n in range(n_games):\n",
    "    \n",
    "    st_all =  time.time()\n",
    "    \n",
    "#     if n % 10000 == 0:\n",
    "#         for i in range(4):\n",
    "#             agents[i].nn.save(model_dir= \"Agent{}-\".format(i) + datetime_str + \"-Game{}\".format(n))  # save network parameters every 10000 episodes\n",
    "    \n",
    "#     for i in range(4):\n",
    "#         if memories[i].tail % episode_savebuffer == 0:\n",
    "#             memories[i].save(\"./buffer/Agent{}-\".format(i) + \"MahjongBufferFrost2_RanHoraPolicy_\" + datetime_str + \".npz\")\n",
    "    \n",
    "    print(\"\\r Game {}\".format(n), end='')\n",
    "\n",
    "    episode_dones = [[], [], [], []]\n",
    "    episode_states = [[], [], [], []]\n",
    "    episode_rewards = [[], [], [], []]\n",
    "    episode_actions = [[], [], [], []]\n",
    "    episode_policies = [[], [], [], []]\n",
    "    \n",
    "    done = 0\n",
    "#     policies = np.zeros([4,], dtype=np.int32)\n",
    "    actions = np.zeros([4,], dtype=np.int32)\n",
    "    rs = np.zeros([4,], dtype=np.float32)\n",
    "    \n",
    "    this_states = env.reset()  ## for all players\n",
    "    \n",
    "    next_aval_states = deepcopy(this_states)\n",
    "    next_states = [[], [], [], []]\n",
    "    \n",
    "    step = 0\n",
    "    \n",
    "    while not done and step < 10000:\n",
    "\n",
    "        who, what = env.who_do_what()\n",
    "        \n",
    "        st_play = time.time()\n",
    "        ## make selection\n",
    "        if what == \"play\":\n",
    "            \n",
    "            ######################## Draw a tile #####################\n",
    "            \n",
    "            next_states[who], r, done, _ = env.step_draw(playerNo=who)\n",
    "            \n",
    "            episode_dones[who].append(done)\n",
    "            episode_states[who].append(this_states[who])\n",
    "            episode_rewards[who].append(r)\n",
    "            episode_actions[who].append(0)\n",
    "            policy = np.zeros([mu_size,], dtype=np.float32)\n",
    "            policy[0] += 1.\n",
    "            episode_policies[who].append(policy) # only 1 available action (draw)\n",
    "            \n",
    "            this_states[who] = deepcopy(next_states[who])\n",
    "            \n",
    "            ###################### Play a tile #######################\n",
    "            ###### 能和则和，能立直则立直 ############\n",
    "            aval_actions = env.t.get_self_actions()\n",
    "            good_actions = []\n",
    "            \n",
    "            for a in range(len(aval_actions)):\n",
    "                if aval_actions[a].action == mp.Action.Riichi:\n",
    "                    good_actions.append(a)\n",
    "\n",
    "                if aval_actions[a].action == mp.Action.Tsumo:\n",
    "                    good_actions.append(a)\n",
    "            #######################################\n",
    "#             st_process = time.time()\n",
    "\n",
    "#             next_aval_states = env.get_aval_next_states(who)  ## for a single player\n",
    "            \n",
    "#             et_process = time.time()\n",
    "#             process_time += et_process - st_process     \n",
    "            \n",
    "            st = time.time()\n",
    "            if len(good_actions) > 0:\n",
    "                good_actions = np.reshape(good_actions, [-1, ])\n",
    "                \n",
    "                a_in_good_as = np.random.choice(len(good_actions))\n",
    "                policy = np.ones(len(good_actions), dtype=np.float32) / len(good_actions)\n",
    "                \n",
    "                action = good_actions[a_in_good_as]\n",
    "                tmp = np.zeros([mu_size,], dtype=np.float32)\n",
    "                tmp[good_actions] = policy\n",
    "                policy = deepcopy(tmp)\n",
    "            else:\n",
    "                action = np.random.choice(len(aval_actions))\n",
    "                policy = np.ones(len(aval_actions), dtype=np.float32) / len(aval_actions)\n",
    "                # covert policy to vector (with padding)\n",
    "                tmp = np.zeros([mu_size,], dtype=np.float32)\n",
    "                tmp[:np.shape(policy)[0]] = policy\n",
    "                policy = deepcopy(tmp)\n",
    "            \n",
    "            et = time.time()\n",
    "            select_time += et - st\n",
    "            \n",
    "            aval_actions = env.t.get_self_actions()\n",
    "            \n",
    "            next_states[who], r, done, _ = env.step_play(action, playerNo=who)\n",
    "                \n",
    "            if aval_actions[actions[who]].action == stop_action:\n",
    "                print(\"stop, player{}\".format(who))\n",
    "                print(undefined)\n",
    "            \n",
    "            next_states[who] = env.get_state_(who)\n",
    "            \n",
    "            episode_dones[who].append(done)\n",
    "            episode_states[who].append(this_states[who])\n",
    "            episode_rewards[who].append(r)\n",
    "            episode_actions[who].append(action)\n",
    "            episode_policies[who].append(policy) # only 1 available action (draw)\n",
    "            \n",
    "            this_states[who] = deepcopy(next_states[who])\n",
    "            et_play = time.time()\n",
    "            play_time += et_play - st_play\n",
    "#             step += 2\n",
    "        \n",
    "        st_response = time.time()\n",
    "        if what == \"response\":\n",
    "            policies = [np.zeros([mu_size,], dtype=np.float32) for _ in range(4)]\n",
    "            for i in range(4):\n",
    "#                 st_process = time.time()\n",
    "#                 next_aval_states = env.get_aval_next_states(i)\n",
    "#                 et_process = time.time()\n",
    "#                 process_time += et_process - st_process\n",
    "                ######################## 能和则和，能立直则立直 ##############\n",
    "                aval_actions = env.t.get_response_actions()\n",
    "                good_actions = []\n",
    "                \n",
    "                for a in range(len(aval_actions)):\n",
    "                    if aval_actions[a].action == mp.Action.Ron:\n",
    "                        good_actions.append(a)\n",
    "\n",
    "                    if aval_actions[a].action == mp.Action.ChanKan:\n",
    "                        good_actions.append(a)\n",
    "\n",
    "                    if aval_actions[a].action == mp.Action.ChanAnKan:\n",
    "                        good_actions.append(a)\n",
    "                ##########################################################\n",
    "                st = time.time()\n",
    "                if len(good_actions) > 0:\n",
    "                    good_actions = np.reshape(good_actions, [-1, ])\n",
    "                    a_in_good_as = np.random.choice(len(good_actions))\n",
    "                    policies[i] = np.ones(len(good_actions), dtype=np.float32) / len(good_actions)\n",
    "                    actions[i] = good_actions[a_in_good_as]\n",
    "                    # covert policy to vector (with padding)\n",
    "                    tmp = np.zeros([mu_size,], dtype=np.float32)\n",
    "                    tmp[good_actions] = policies[i]\n",
    "                    policies[i] = deepcopy(tmp)\n",
    "                    \n",
    "                else:\n",
    "                    actions[i] = np.random.choice(len(aval_actions))\n",
    "                    policies[i] = np.ones(len(aval_actions), dtype=np.float32) / len(aval_actions)\n",
    "                    # covert policy to vector (with padding)\n",
    "                    tmp = np.zeros([mu_size,], dtype=np.float32)\n",
    "                    tmp[:np.shape(policies[i])[0]] = policies[i]\n",
    "                    policies[i] = deepcopy(tmp)\n",
    "                \n",
    "                et = time.time()\n",
    "                select_time += et - st\n",
    "#                 print(Phases[env.t.get_phase()])\n",
    "\n",
    "                aval_actions = env.t.get_response_actions()\n",
    "    \n",
    "                ######## stop test #############\n",
    "                next_states[i], rs[i], done, _ = env.step_response(actions[i], playerNo=i)\n",
    "                \n",
    "                if aval_actions[actions[i]].action == stop_action:\n",
    "                    chiplayerNo = i\n",
    "                    stop_judge = 1\n",
    "                    print('----- Player {} Chi -----'.format(chiplayerNo))\n",
    "                    \n",
    "                    for k in range(len(aval_actions[actions[i]].correspond_tiles)):\n",
    "                        print(aval_actions[actions[i]].correspond_tiles[k].tile)\n",
    "                    print(env.t.get_selected_action_tile().tile)\n",
    "                    \n",
    "                    \n",
    "                ## Note: next_states is agent's prediction, but not the true one\n",
    "            \n",
    "            # table change after all players making actions\n",
    "            if stop_judge:\n",
    "                print(unf)\n",
    "                fulus = env.t.players[chiplayerNo].fulus\n",
    "                print('----- player {} fulu ------'.format(chiplayerNo))\n",
    "                for k in range(len(fulus)):\n",
    "                    for m in range(len(fulus[k].tiles)):\n",
    "                        print(fulus[k].tiles[m].tile)\n",
    "                print('==========================='.format(chiplayerNo))\n",
    "                stop_judge = 0\n",
    "            \n",
    "            \n",
    "            for i in range(4):\n",
    "                next_states[i] = env.get_state_(i)\n",
    "                episode_dones[i].append(done)\n",
    "                episode_states[i].append(this_states[i])\n",
    "                episode_rewards[i].append(rs[i])\n",
    "                episode_actions[i].append(actions[i])\n",
    "                episode_policies[i].append(policies[i]) # only 1 available action (draw)\n",
    "        \n",
    "            ## next step\n",
    "            st_copy = time.time()\n",
    "            for i in range(4):\n",
    "                this_states[i] = deepcopy(next_states[i])\n",
    "            et_copy = time.time()\n",
    "            copy_time += et_copy - st_copy\n",
    "            \n",
    "            step += 1\n",
    "        et_response = time.time()\n",
    "        response_time += et_response - st_response\n",
    "#         print(\"Game {}, step {}\".format(n, step))\n",
    "#         print(env.get_phase_text())\n",
    "        \n",
    "        if done:      \n",
    "            st_done = time.time()\n",
    "            final_score_change = env.get_final_score_change()\n",
    "            for i in range(4):\n",
    "                episode_states[i].append(env.get_state_(i))\n",
    "                \n",
    "                if len(episode_dones[i]) >= 1: # if not 1st turn end\n",
    "                    episode_dones[i][-1] = 1\n",
    "                \n",
    "                #### Disable the following line if not care others\n",
    "#                 episode_rewards[i][-1] = final_score_change[i]\n",
    "                ##################################################\n",
    "            \n",
    "            if not np.max(final_score_change) == 0: ## score change\n",
    "                for i in range(4):\n",
    "                    memories[i].append_episode(episode_states[i],\n",
    "                                               np.reshape(episode_rewards[i], [-1,]),\n",
    "                                               np.reshape(episode_dones[i], [-1,]),\n",
    "                                               np.reshape(episode_actions[i], [-1,]),\n",
    "                                               np.reshape(episode_policies[i], [-1, 40]),\n",
    "                                               weight=0)\n",
    "#                     agents[i].remember_episode(episode_states[i], episode_rewards[i],\n",
    "#                                                episode_dones[i], episode_policies[i], weight=1)\n",
    "                print(' ')\n",
    "                print(env.t.get_result().result_type, end='')\n",
    "                print(\": Totally {} steps\".format(np.shape(episode_dones[0])[0]))\n",
    "                \n",
    "#                 with open(\"./Paipu/\"+datetime.now().strftime(\"%Y%m%d-%H%M%S\")+\".txt\", 'w+') as fp:\n",
    "#                     fp.write(mp.GameLogToString(env.t.game_log).decode('GBK'))\n",
    "#                     break\n",
    "            else:\n",
    "                if np.random.rand() < 0.0005: ## no score change\n",
    "                    for i in range(4):\n",
    "                        memories[i].append_episode(episode_states[i],\n",
    "                                                   np.reshape(episode_rewards[i], [-1,]),\n",
    "                                                   np.reshape(episode_dones[i], [-1,]),\n",
    "                                                   np.reshape(episode_actions[i], [-1,]),\n",
    "                                                   np.reshape(episode_policies[i], [-1, 40]),\n",
    "                                                   weight=0)\n",
    "                    print(' ')\n",
    "                    print(env.t.get_result().result_type, end='')\n",
    "                    print(\": Totally {} steps\".format(np.shape(episode_dones[0])[0]))\n",
    "            \n",
    "#             st = time.time()\n",
    "#             for n_train in range(5):\n",
    "#                 for i in range(4):\n",
    "#                     agents[i].learn(env.symmetric_matrix_features, episode_start=episode_start, logging=True)\n",
    "#             et = time.time()\n",
    "#             learn2_time += et - st\n",
    "            \n",
    "#             et_done = time.time()\n",
    "#             done_time += et_done - st_done\n",
    "            \n",
    "#             et_all = time.time()\n",
    "#             all_time += et_all - st_all\n",
    "\n",
    "# data = {\"rons\": env.final_score_changes}\n",
    "# sio.savemat(\"./final_score_changes\" + datetime_str + \".mat\", data)\n"
   ]
  },
  {
   "cell_type": "code",
   "execution_count": null,
   "metadata": {},
   "outputs": [],
   "source": []
  },
  {
   "cell_type": "code",
   "execution_count": null,
   "metadata": {},
   "outputs": [],
   "source": []
  },
  {
   "cell_type": "code",
   "execution_count": null,
   "metadata": {},
   "outputs": [],
   "source": []
  },
  {
   "cell_type": "code",
   "execution_count": null,
   "metadata": {},
   "outputs": [],
   "source": []
  },
  {
   "cell_type": "code",
   "execution_count": null,
   "metadata": {},
   "outputs": [],
   "source": []
  },
  {
   "cell_type": "code",
   "execution_count": null,
   "metadata": {},
   "outputs": [],
   "source": []
  },
  {
   "cell_type": "code",
   "execution_count": null,
   "metadata": {},
   "outputs": [],
   "source": []
  },
  {
   "cell_type": "code",
   "execution_count": null,
   "metadata": {},
   "outputs": [],
   "source": []
  },
  {
   "cell_type": "code",
   "execution_count": null,
   "metadata": {},
   "outputs": [],
   "source": [
    "# for i in range(4):\n",
    "#     memories[i].save(\"./buffer/Agent{}-\".format(i) + \"MahjongBufferFrost2_RanHoraPolicy_228\"  + \".npz\")\n",
    "    "
   ]
  },
  {
   "cell_type": "code",
   "execution_count": 63,
   "metadata": {},
   "outputs": [
    {
     "name": "stdout",
     "output_type": "stream",
     "text": [
      "0\n",
      "0.002000570297241211\n",
      "0\n",
      "0.019994735717773438\n",
      "0.0989370346069336\n",
      "0\n",
      "0\n",
      "0.0009999275207519531\n"
     ]
    }
   ],
   "source": [
    "print(all_time)\n",
    "print(select_time)\n",
    "print(learn_time)\n",
    "print(play_time)\n",
    "print(response_time)\n",
    "print(process_time)\n",
    "print(done_time)\n",
    "print(copy_time)"
   ]
  },
  {
   "cell_type": "code",
   "execution_count": 62,
   "metadata": {},
   "outputs": [
    {
     "name": "stdout",
     "output_type": "stream",
     "text": [
      "----- player 0 hand -----\n",
      "BaseTile._2m\n",
      "BaseTile._9m\n",
      "BaseTile._1s\n",
      "BaseTile._3s\n",
      "BaseTile._4s\n",
      "BaseTile._5s\n",
      "BaseTile._3p\n",
      "BaseTile._4p\n",
      "BaseTile._4p\n",
      "BaseTile._5p\n",
      "BaseTile._7p\n",
      "BaseTile.west\n",
      "BaseTile.west\n",
      "----- player 1 hand -----\n",
      "BaseTile._1m\n",
      "BaseTile._7m\n",
      "BaseTile._7s\n",
      "BaseTile._7s\n",
      "BaseTile._8s\n",
      "BaseTile._1p\n",
      "BaseTile._2p\n",
      "BaseTile._2p\n",
      "BaseTile._5p\n",
      "BaseTile._6p\n",
      "BaseTile._9p\n",
      "----- player 2 hand -----\n",
      "BaseTile._3m\n",
      "BaseTile._4m\n",
      "BaseTile._8m\n",
      "BaseTile._8m\n",
      "BaseTile._6s\n",
      "BaseTile._6s\n",
      "BaseTile._8s\n",
      "BaseTile._2p\n",
      "BaseTile._5p\n",
      "BaseTile.east\n",
      "BaseTile.east\n",
      "BaseTile.south\n",
      "BaseTile.hatsu\n",
      "----- player 3 hand -----\n",
      "BaseTile._2m\n",
      "BaseTile._6m\n",
      "BaseTile._6m\n",
      "BaseTile._8m\n",
      "BaseTile._1s\n",
      "BaseTile._5s\n",
      "BaseTile._6s\n",
      "BaseTile._9s\n",
      "BaseTile._2p\n",
      "BaseTile.haku\n",
      "----- player 0 fulu -----\n",
      "----- player 1 fulu -----\n",
      "BaseTile._1m\n",
      "BaseTile._2m\n",
      "BaseTile._3m\n",
      "----- player 2 fulu -----\n",
      "----- player 3 fulu -----\n",
      "BaseTile.chu\n",
      "BaseTile.chu\n",
      "BaseTile.chu\n"
     ]
    }
   ],
   "source": [
    "## Check tiles\n",
    "for p in range(4):\n",
    "    hand = env.t.players[p].hand\n",
    "    print('----- player {} hand -----'.format(p))\n",
    "    for k in range(len(hand)):\n",
    "        print(hand[k].tile)\n",
    "for p in range(4):\n",
    "    fulus = env.t.players[p].fulus\n",
    "    print('----- player {} fulu -----'.format(p))\n",
    "    for k in range(len(fulus)):\n",
    "        for m in range(len(fulus[k].tiles)):\n",
    "            print(fulus[k].tiles[m].tile)"
   ]
  },
  {
   "cell_type": "code",
   "execution_count": null,
   "metadata": {},
   "outputs": [],
   "source": [
    "env.t.DORA[0].tile"
   ]
  },
  {
   "cell_type": "code",
   "execution_count": null,
   "metadata": {},
   "outputs": [],
   "source": [
    "this_states[0][0][:,28]"
   ]
  },
  {
   "cell_type": "code",
   "execution_count": null,
   "metadata": {},
   "outputs": [],
   "source": [
    "env.t.get_selected_action_tile().tile"
   ]
  },
  {
   "cell_type": "code",
   "execution_count": 72,
   "metadata": {},
   "outputs": [
    {
     "data": {
      "image/png": "[encoded data removed]",
      "text/plain": [
       "<Figure size 432x288 with 2 Axes>"
      ]
     },
     "metadata": {
      "needs_background": "light"
     },
     "output_type": "display_data"
    }
   ],
   "source": [
    "import matplotlib.pyplot as plt\n",
    "\n",
    "playerNo = 1\n",
    "\n",
    "plt.pcolor(env.get_state_(playerNo)[0][:,-29:])\n",
    "plt.colorbar()\n",
    "plt.show()\n"
   ]
  },
  {
   "cell_type": "code",
   "execution_count": 69,
   "metadata": {},
   "outputs": [
    {
     "name": "stdout",
     "output_type": "stream",
     "text": [
      "Action.Play\n"
     ]
    },
    {
     "data": {
      "image/png": "[encoded data removed]",
      "text/plain": [
       "<Figure size 432x288 with 2 Axes>"
      ]
     },
     "metadata": {
      "needs_background": "light"
     },
     "output_type": "display_data"
    }
   ],
   "source": [
    "playerNo = 0\n",
    "a = 10\n",
    "plt.pcolor(env.get_next_state(a, playerNo)[0][:,-5:])\n",
    "print(env.t.get_self_actions()[a].action)\n",
    "plt.colorbar()\n",
    "plt.show()"
   ]
  },
  {
   "cell_type": "markdown",
   "metadata": {},
   "source": [
    "## Predict score (value function)"
   ]
  },
  {
   "cell_type": "code",
   "execution_count": null,
   "metadata": {},
   "outputs": [],
   "source": []
  },
  {
   "cell_type": "code",
   "execution_count": null,
   "metadata": {},
   "outputs": [],
   "source": []
  },
  {
   "cell_type": "code",
   "execution_count": null,
   "metadata": {},
   "outputs": [],
   "source": []
  },
  {
   "cell_type": "code",
   "execution_count": null,
   "metadata": {},
   "outputs": [],
   "source": [
    "mp.GameLogToString(env.t.game_log).decode('GBK')"
   ]
  },
  {
   "cell_type": "code",
   "execution_count": null,
   "metadata": {},
   "outputs": [],
   "source": [
    "env.t.get_self_actions()"
   ]
  },
  {
   "cell_type": "code",
   "execution_count": null,
   "metadata": {},
   "outputs": [],
   "source": []
  }
 ],
 "metadata": {
  "kernelspec": {
   "display_name": "Python 3",
   "language": "python",
   "name": "python3"
  },
  "language_info": {
   "codemirror_mode": {
    "name": "ipython",
    "version": 3
   },
   "file_extension": ".py",
   "mimetype": "text/x-python",
   "name": "python",
   "nbconvert_exporter": "python",
   "pygments_lexer": "ipython3",
   "version": "3.6.2"
  }
 },
 "nbformat": 4,
 "nbformat_minor": 2
}
