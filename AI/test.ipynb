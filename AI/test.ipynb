{
 "cells": [
  {
   "cell_type": "code",
   "execution_count": null,
   "metadata": {},
   "outputs": [],
   "source": [
    "import tensorflow as tf\n",
    "import numpy as np\n",
    "import MahjongPy as mp\n",
    "from copy import deepcopy\n"
   ]
  },
  {
   "cell_type": "code",
   "execution_count": null,
   "metadata": {},
   "outputs": [],
   "source": []
  },
  {
   "cell_type": "code",
   "execution_count": null,
   "metadata": {},
   "outputs": [],
   "source": [
    "#!/usr/bin/env python\n",
    "# coding: utf-8\n",
    "\n",
    "\n",
    "\n",
    "Phases = (\"P1_ACTION\", \"P2_ACTION\", \"P3_ACTION\", \"P4_ACTION\", \"P1_RESPONSE\", \"P2_RESPONSE\", \"P3_RESPONSE\", \"P4_RESPONSE\",\n",
    "    \"P1_抢杠RESPONSE\", \"P2_抢杠RESPONSE\", \"P3_抢杠RESPONSE\", \"P4_抢杠RESPONSE\",\n",
    "    \"P1_抢暗杠RESPONSE\", \"P2_抢暗杠RESPONSE\", \" P3_抢暗杠RESPONSE\", \" P4_抢暗杠RESPONSE\", \"GAME_OVER\")\n",
    "\n",
    "for n in range(1):\n",
    "    t = mp.Table()\n",
    "    t.game_init()\n",
    "    for m in range(50):\n",
    "        # print(Phases[t.get_phase()] )\n",
    "        \n",
    "        if t.get_phase() < 4:\n",
    "            aval_actions = t.get_self_actions()\n",
    "            a = np.random.randint(len(aval_actions))\n",
    "            if aval_actions[a].action == mp.Action.Tsumo:\n",
    "                print(aval_actions[a].action)\n",
    "                for i in range(len(aval_actions[a].correspond_tiles)):\n",
    "                    print(aval_actions[a].correspond_tiles[i].tile)\n",
    "            t.make_selection(a)\n",
    "        else:\n",
    "            aval_actions = t.get_response_actions()\n",
    "            a = np.random.randint(len(aval_actions))\n",
    "            \n",
    "            if aval_actions[a].action == mp.Action.Ron:\n",
    "                print(aval_actions[a].action)\n",
    "                for i in range(len(aval_actions[a].correspond_tiles)):\n",
    "                    print(aval_actions[a].correspond_tiles[i].tile)\n",
    "            t.make_selection(a)\n",
    "            \n",
    "#         print(\"\\r\")\n",
    "        \n",
    "        if Phases[t.get_phase()] == \"GAME_OVER\":\n",
    "            print(t.get_result().result_type)\n",
    "            break\n",
    "        \n"
   ]
  },
  {
   "cell_type": "code",
   "execution_count": null,
   "metadata": {},
   "outputs": [],
   "source": [
    "t.DORA[4].tile"
   ]
  },
  {
   "cell_type": "code",
   "execution_count": null,
   "metadata": {},
   "outputs": [],
   "source": [
    "t.last_action"
   ]
  },
  {
   "cell_type": "code",
   "execution_count": null,
   "metadata": {},
   "outputs": [],
   "source": [
    "## Check tiles\n",
    "for p in range(4):\n",
    "    hand = t.players[p].hand\n",
    "    print('player {}'.format(p))\n",
    "    for k in range(len(hand)):\n",
    "        print(hand[k].tile)\n",
    "for p in range(4):\n",
    "    fulus = t.players[p].fulus\n",
    "    print('player {}'.format(p))\n",
    "    for k in range(len(fulus)):\n",
    "        for m in range(len(fulus[k].tiles)):\n",
    "            print(fulus[k].tiles[m].tile)\n",
    "        print(fulus[k].take)"
   ]
  },
  {
   "cell_type": "code",
   "execution_count": null,
   "metadata": {},
   "outputs": [],
   "source": [
    "fulus[1]"
   ]
  },
  {
   "cell_type": "code",
   "execution_count": null,
   "metadata": {},
   "outputs": [],
   "source": [
    "t.players[2].fulus[0].tiles"
   ]
  },
  {
   "cell_type": "code",
   "execution_count": null,
   "metadata": {},
   "outputs": [],
   "source": [
    "fulus1"
   ]
  },
  {
   "cell_type": "code",
   "execution_count": null,
   "metadata": {},
   "outputs": [],
   "source": [
    "fulus1[0].take"
   ]
  },
  {
   "cell_type": "code",
   "execution_count": null,
   "metadata": {},
   "outputs": [],
   "source": [
    "t.get_selected_action_tile()"
   ]
  },
  {
   "cell_type": "code",
   "execution_count": null,
   "metadata": {},
   "outputs": [],
   "source": [
    "t.last_"
   ]
  },
  {
   "cell_type": "code",
   "execution_count": null,
   "metadata": {},
   "outputs": [],
   "source": [
    "mp.Action.Tsumo"
   ]
  },
  {
   "cell_type": "code",
   "execution_count": null,
   "metadata": {},
   "outputs": [],
   "source": [
    "t.DORA[0].tile"
   ]
  },
  {
   "cell_type": "code",
   "execution_count": null,
   "metadata": {},
   "outputs": [],
   "source": [
    "t.AKADORA"
   ]
  },
  {
   "cell_type": "code",
   "execution_count": null,
   "metadata": {},
   "outputs": [],
   "source": [
    "t.players[2].river.river[1].fromhand"
   ]
  },
  {
   "cell_type": "code",
   "execution_count": null,
   "metadata": {},
   "outputs": [],
   "source": [
    "## Check tiles\n",
    "for p in range(4):\n",
    "    hand = t.players[p].hand\n",
    "    print('player {}'.format(p))\n",
    "    for k in range(len(hand)):\n",
    "        print(hand[k].tile)\n",
    "for p in range(4):\n",
    "    fulus = t.players[p].fulus\n",
    "    print('player {}'.format(p))\n",
    "    for k in range(len(fulus)):\n",
    "        for m in range(len(fulus[k].tiles)):\n",
    "            print(fulus[k].tiles[m].tile)\n",
    "        print(fulus[k].take)"
   ]
  },
  {
   "cell_type": "code",
   "execution_count": null,
   "metadata": {},
   "outputs": [],
   "source": []
  }
 ],
 "metadata": {
  "kernelspec": {
   "display_name": "Python 3",
   "language": "python",
   "name": "python3"
  },
  "language_info": {
   "codemirror_mode": {
    "name": "ipython",
    "version": 3
   },
   "file_extension": ".py",
   "mimetype": "text/x-python",
   "name": "python",
   "nbconvert_exporter": "python",
   "pygments_lexer": "ipython3",
   "version": "3.6.2"
  }
 },
 "nbformat": 4,
 "nbformat_minor": 2
}
