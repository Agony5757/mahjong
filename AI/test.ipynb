{
 "cells": [
  {
   "cell_type": "code",
   "execution_count": 1,
   "metadata": {},
   "outputs": [],
   "source": [
    "import sys\n",
    "import numpy as np\n",
    "import MahjongPy as mp\n",
    "from copy import deepcopy\n",
    "import sparse as sps\n",
    "import matplotlib.pyplot as plt"
   ]
  },
  {
   "cell_type": "code",
   "execution_count": 2,
   "metadata": {},
   "outputs": [
    {
     "data": {
      "text/plain": [
       "1"
      ]
     },
     "execution_count": 2,
     "metadata": {},
     "output_type": "execute_result"
    }
   ],
   "source": [
    "1"
   ]
  },
  {
   "cell_type": "code",
   "execution_count": null,
   "metadata": {},
   "outputs": [],
   "source": [
    "b = np.zeros((34, 70), dtype=np.float32)"
   ]
  },
  {
   "cell_type": "code",
   "execution_count": null,
   "metadata": {},
   "outputs": [],
   "source": []
  },
  {
   "cell_type": "code",
   "execution_count": 7,
   "metadata": {},
   "outputs": [
    {
     "name": "stdout",
     "output_type": "stream",
     "text": [
      "ResultType.NoTileRyuuKyoku\n",
      "ResultType.NoTileRyuuKyoku\n",
      "ResultType.NoTileRyuuKyoku\n",
      "ResultType.NoTileRyuuKyoku\n",
      "ResultType.NoTileRyuuKyoku\n",
      "ResultType.NoTileRyuuKyoku\n",
      "ResultType.NoTileRyuuKyoku\n",
      "ResultType.NoTileRyuuKyoku\n",
      "ResultType.NoTileRyuuKyoku\n",
      "ResultType.NoTileRyuuKyoku\n",
      "ResultType.NoTileRyuuKyoku\n",
      "ResultType.NoTileRyuuKyoku\n",
      "ResultType.NoTileRyuuKyoku\n",
      "ResultType.NoTileRyuuKyoku\n",
      "ResultType.NoTileRyuuKyoku\n",
      "ResultType.NoTileRyuuKyoku\n",
      "ResultType.NoTileRyuuKyoku\n",
      "ResultType.NoTileRyuuKyoku\n",
      "ResultType.NoTileRyuuKyoku\n",
      "ResultType.NoTileRyuuKyoku\n",
      "ResultType.NoTileRyuuKyoku\n",
      "ResultType.NoTileRyuuKyoku\n",
      "ResultType.NoTileRyuuKyoku\n",
      "ResultType.NoTileRyuuKyoku\n",
      "ResultType.NoTileRyuuKyoku\n",
      "ResultType.NoTileRyuuKyoku\n",
      "ResultType.NoTileRyuuKyoku\n",
      "ResultType.NoTileRyuuKyoku\n",
      "ResultType.NoTileRyuuKyoku\n",
      "ResultType.NoTileRyuuKyoku\n",
      "ResultType.NoTileRyuuKyoku\n",
      "ResultType.NoTileRyuuKyoku\n",
      "ResultType.NoTileRyuuKyoku\n",
      "ResultType.NoTileRyuuKyoku\n",
      "ResultType.NoTileRyuuKyoku\n",
      "ResultType.NoTileRyuuKyoku\n",
      "ResultType.NoTileRyuuKyoku\n",
      "ResultType.NoTileRyuuKyoku\n",
      "ResultType.NoTileRyuuKyoku\n",
      "ResultType.NoTileRyuuKyoku\n",
      "ResultType.NoTileRyuuKyoku\n",
      "ResultType.NoTileRyuuKyoku\n",
      "ResultType.NoTileRyuuKyoku\n",
      "ResultType.NoTileRyuuKyoku\n",
      "ResultType.NoTileRyuuKyoku\n",
      "ResultType.NoTileRyuuKyoku\n",
      "ResultType.NoTileRyuuKyoku\n",
      "ResultType.NoTileRyuuKyoku\n",
      "ResultType.NoTileRyuuKyoku\n",
      "ResultType.NoTileRyuuKyoku\n",
      "ResultType.NoTileRyuuKyoku\n",
      "ResultType.NoTileRyuuKyoku\n",
      "ResultType.NoTileRyuuKyoku\n",
      "ResultType.NoTileRyuuKyoku\n",
      "ResultType.NoTileRyuuKyoku\n",
      "ResultType.NoTileRyuuKyoku\n",
      "ResultType.NoTileRyuuKyoku\n",
      "ResultType.NoTileRyuuKyoku\n",
      "ResultType.NoTileRyuuKyoku\n",
      "ResultType.NoTileRyuuKyoku\n",
      "ResultType.NoTileRyuuKyoku\n",
      "ResultType.NoTileRyuuKyoku\n",
      "ResultType.NoTileRyuuKyoku\n",
      "ResultType.NoTileRyuuKyoku\n",
      "ResultType.NoTileRyuuKyoku\n",
      "ResultType.NoTileRyuuKyoku\n",
      "ResultType.NoTileRyuuKyoku\n",
      "ResultType.NoTileRyuuKyoku\n",
      "ResultType.NoTileRyuuKyoku\n",
      "ResultType.NoTileRyuuKyoku\n",
      "ResultType.NoTileRyuuKyoku\n",
      "ResultType.NoTileRyuuKyoku\n",
      "ResultType.NoTileRyuuKyoku\n",
      "ResultType.NoTileRyuuKyoku\n",
      "ResultType.NoTileRyuuKyoku\n",
      "ResultType.NoTileRyuuKyoku\n",
      "ResultType.NoTileRyuuKyoku\n",
      "ResultType.NoTileRyuuKyoku\n",
      "ResultType.NoTileRyuuKyoku\n",
      "ResultType.NoTileRyuuKyoku\n",
      "ResultType.NoTileRyuuKyoku\n",
      "ResultType.NoTileRyuuKyoku\n",
      "ResultType.NoTileRyuuKyoku\n",
      "ResultType.NoTileRyuuKyoku\n",
      "ResultType.NoTileRyuuKyoku\n",
      "ResultType.NoTileRyuuKyoku\n",
      "ResultType.NoTileRyuuKyoku\n",
      "ResultType.NoTileRyuuKyoku\n",
      "ResultType.NoTileRyuuKyoku\n",
      "ResultType.NoTileRyuuKyoku\n",
      "ResultType.NoTileRyuuKyoku\n",
      "ResultType.NoTileRyuuKyoku\n",
      "ResultType.NoTileRyuuKyoku\n",
      "ResultType.NoTileRyuuKyoku\n",
      "ResultType.NoTileRyuuKyoku\n",
      "ResultType.NoTileRyuuKyoku\n",
      "ResultType.NoTileRyuuKyoku\n",
      "ResultType.NoTileRyuuKyoku\n",
      "ResultType.NoTileRyuuKyoku\n",
      "ResultType.NoTileRyuuKyoku\n"
     ]
    }
   ],
   "source": [
    "#!/usr/bin/env python\n",
    "# coding: utf-8\n",
    "\n",
    "\n",
    "Phases = (\"P1_ACTION\", \"P2_ACTION\", \"P3_ACTION\", \"P4_ACTION\", \"P1_RESPONSE\", \"P2_RESPONSE\", \"P3_RESPONSE\", \"P4_RESPONSE\",\n",
    "    \"P1_抢杠RESPONSE\", \"P2_抢杠RESPONSE\", \"P3_抢杠RESPONSE\", \"P4_抢杠RESPONSE\",\n",
    "    \"P1_抢暗杠RESPONSE\", \"P2_抢暗杠RESPONSE\", \" P3_抢暗杠RESPONSE\", \" P4_抢暗杠RESPONSE\", \"GAME_OVER\")\n",
    "\n",
    "for n in range(100):\n",
    "    t = mp.Table()\n",
    "    t.game_init()\n",
    "    for m in range(555):\n",
    "        # print(Phases[t.get_phase()] )\n",
    "        \n",
    "        if t.get_phase() < 4:\n",
    "            aval_actions = t.get_self_actions()\n",
    "            a = np.random.randint(len(aval_actions))\n",
    "            if aval_actions[a].action == mp.Action.Tsumo:\n",
    "                print(aval_actions[a].action)\n",
    "                for i in range(len(aval_actions[a].correspond_tiles)):\n",
    "                    print(aval_actions[a].correspond_tiles[i].tile)\n",
    "            t.make_selection(a)\n",
    "#             if aval_actions[a].action == mp.Action.Pon:\n",
    "#                 print('Pon')\n",
    "#                 for k in range(len(aval_actions[a].correspond_tiles)):\n",
    "#                     print(aval_actions[a].correspond_tiles[k].tile)\n",
    "#             if aval_actions[a].action == mp.Action.Chi:\n",
    "#                 print('Chi')\n",
    "#                 for k in range(len(aval_actions[a].correspond_tiles)):\n",
    "#                     print(aval_actions[a].correspond_tiles[k].tile)\n",
    "#             if aval_actions[a].action == mp.Action.Kan:\n",
    "#                 print('Kan')\n",
    "#                 for k in range(len(aval_actions[a].correspond_tiles)):\n",
    "#                     print(aval_actions[a].correspond_tiles[k].tile)\n",
    "#             if aval_actions[a].action == mp.Action.Kakan:\n",
    "#                 print('Kakan')\n",
    "#                 for k in range(len(aval_actions[a].correspond_tiles)):\n",
    "#                     print(aval_actions[a].correspond_tiles[k].tile)\n",
    "#             if aval_actions[a].action == mp.Action.Ankan:\n",
    "#                 print('Ankan')\n",
    "#                 for k in range(len(aval_actions[a].correspond_tiles)):\n",
    "#                     print(aval_actions[a].correspond_tiles[k].tile)\n",
    "        else:\n",
    "            aval_actions = t.get_response_actions()\n",
    "            a = np.random.randint(len(aval_actions))\n",
    "            \n",
    "            if aval_actions[a].action == mp.Action.Ron:\n",
    "                print(aval_actions[a].action)\n",
    "                for k in range(len(aval_actions[a].correspond_tiles)):\n",
    "                    print(aval_actions[a].correspond_tiles[k].tile)\n",
    "                print(t.get_selected_action_tile().tile)\n",
    "            \n",
    "#             if len(aval_actions) > 1:\n",
    "#                 if np.random.rand() < 0.1:\n",
    "#                     aaa\n",
    "            \n",
    "#             print(t.get_selected_action_tile().tile)\n",
    "            t.make_selection(a)\n",
    "#             if aval_actions[a].action == mp.Action.Pon:\n",
    "#                 print('Pon')\n",
    "#                 for k in range(len(aval_actions[a].correspond_tiles)):\n",
    "#                     print(aval_actions[a].correspond_tiles[k].tile)\n",
    "#             if aval_actions[a].action == mp.Action.Chi:\n",
    "#                 print('Chi')\n",
    "#                 for k in range(len(aval_actions[a].correspond_tiles)):\n",
    "#                     print(aval_actions[a].correspond_tiles[k].tile)\n",
    "#                 print(t.get_selected_action_tile().tile)\n",
    "#             if aval_actions[a].action == mp.Action.Kan:\n",
    "#                 print('Kan')\n",
    "#                 for k in range(len(aval_actions[a].correspond_tiles)):\n",
    "#                     print(aval_actions[a].correspond_tiles[k].tile)\n",
    "#             if aval_actions[a].action == mp.Action.Kakan:\n",
    "#                 print('Kakan')\n",
    "#                 for k in range(len(aval_actions[a].correspond_tiles)):\n",
    "#                     print(aval_actions[a].correspond_tiles[k].tile)\n",
    "#             if aval_actions[a].action == mp.Action.Ankan:\n",
    "#                 print('Ankan')\n",
    "#                 for k in range(len(aval_actions[a].correspond_tiles)):\n",
    "#                     print(aval_actions[a].correspond_tiles[k].tile)            \n",
    "#         print(\"\\r\")\n",
    "        \n",
    "        if Phases[t.get_phase()] == \"GAME_OVER\":\n",
    "            print(t.get_result().result_type)\n",
    "            break\n",
    "        \n"
   ]
  },
  {
   "cell_type": "code",
   "execution_count": 5,
   "metadata": {},
   "outputs": [
    {
     "name": "stdout",
     "output_type": "stream",
     "text": [
      "2\n",
      "Action.Pass\n"
     ]
    }
   ],
   "source": [
    "print(t.get_phase())\n",
    "for i in range(len(aval_actions)):\n",
    "    print(aval_actions[i].action)"
   ]
  },
  {
   "cell_type": "code",
   "execution_count": 25,
   "metadata": {},
   "outputs": [
    {
     "data": {
      "text/plain": [
       "[0.0,\n",
       " 0.0,\n",
       " 0.0,\n",
       " 0.0,\n",
       " 0.0,\n",
       " 0.0,\n",
       " 0.0,\n",
       " 0.0,\n",
       " 0.0,\n",
       " 0.0,\n",
       " 0.0,\n",
       " 0.0,\n",
       " 0.0,\n",
       " 1.0,\n",
       " 0.0,\n",
       " 0.0,\n",
       " 0.0,\n",
       " 1.0,\n",
       " 1.0,\n",
       " 0.0,\n",
       " 0.8461538553237915,\n",
       " 1.0,\n",
       " 1.0,\n",
       " 0.8461538553237915,\n",
       " 0.0,\n",
       " 0.8888888955116272,\n",
       " 0.0,\n",
       " 0.0,\n",
       " 0.0]"
      ]
     },
     "execution_count": 25,
     "metadata": {},
     "output_type": "execute_result"
    }
   ],
   "source": [
    "action_index = 1\n",
    "t.get_next_aval_states_vector_features_frost2(t.get_phase() % 4)[action_index]"
   ]
  },
  {
   "cell_type": "code",
   "execution_count": 27,
   "metadata": {},
   "outputs": [
    {
     "data": {
      "image/png": "[encoded data removed]",
      "text/plain": [
       "<matplotlib.figure.Figure at 0x26074b89d68>"
      ]
     },
     "metadata": {},
     "output_type": "display_data"
    },
    {
     "data": {
      "image/png": "[encoded data removed]",
      "text/plain": [
       "<matplotlib.figure.Figure at 0x2607469f550>"
      ]
     },
     "metadata": {},
     "output_type": "display_data"
    }
   ],
   "source": [
    "action_index = 1\n",
    "S = np.reshape(t.get_next_aval_states_matrix_features_frost2(t.get_phase() % 4)[action_index], [34,58])\n",
    "plt.pcolor(S)\n",
    "\n",
    "plt.colorbar()\n",
    "plt.show()\n",
    "\n",
    "plt.pcolor(S[:, 29:53])\n",
    "plt.show()"
   ]
  },
  {
   "cell_type": "code",
   "execution_count": null,
   "metadata": {},
   "outputs": [],
   "source": []
  },
  {
   "cell_type": "code",
   "execution_count": 28,
   "metadata": {},
   "outputs": [
    {
     "data": {
      "image/png": "[encoded data removed]",
      "text/plain": [
       "<matplotlib.figure.Figure at 0x260747e25c0>"
      ]
     },
     "metadata": {},
     "output_type": "display_data"
    }
   ],
   "source": [
    "plt.pcolor(S  - np.reshape(t.get_next_aval_states_matrix_features_frost2(t.get_phase() % 4)[0], [34,58]))\n",
    "plt.colorbar()\n",
    "plt.show()\n"
   ]
  },
  {
   "cell_type": "code",
   "execution_count": 17,
   "metadata": {},
   "outputs": [
    {
     "name": "stdout",
     "output_type": "stream",
     "text": [
      "player 0\n",
      "BaseTile._2m\n",
      "BaseTile._4m\n",
      "BaseTile._4m\n",
      "BaseTile._7m\n",
      "BaseTile._7m\n",
      "BaseTile._5p\n",
      "BaseTile._5p\n",
      "BaseTile._8p\n",
      "BaseTile._1s\n",
      "BaseTile._2s\n",
      "BaseTile._3s\n",
      "BaseTile._8s\n",
      "BaseTile.south\n",
      "player 1\n",
      "BaseTile._3m\n",
      "BaseTile._3m\n",
      "BaseTile._8m\n",
      "BaseTile._4p\n",
      "BaseTile._6p\n",
      "BaseTile._7p\n",
      "BaseTile._2s\n",
      "BaseTile._4s\n",
      "BaseTile._9s\n",
      "BaseTile.west\n",
      "player 2\n",
      "BaseTile._2m\n",
      "BaseTile._5m\n",
      "BaseTile._9m\n",
      "BaseTile._2p\n",
      "BaseTile._3p\n",
      "BaseTile._4p\n",
      "BaseTile._5p\n",
      "BaseTile._3s\n",
      "BaseTile._5s\n",
      "BaseTile._5s\n",
      "player 3\n",
      "BaseTile._1m\n",
      "BaseTile._2m\n",
      "BaseTile._7m\n",
      "BaseTile._8m\n",
      "BaseTile._1p\n",
      "BaseTile._3p\n",
      "BaseTile._4p\n",
      "BaseTile._5p\n",
      "BaseTile._9p\n",
      "BaseTile._1s\n",
      "BaseTile._7s\n",
      "BaseTile._9s\n",
      "BaseTile.hatsu\n",
      "BaseTile._7s\n",
      "player 0\n",
      "player 1\n",
      "BaseTile._9m\n",
      "BaseTile._9m\n",
      "BaseTile._9m\n",
      "player 2\n",
      "BaseTile.east\n",
      "BaseTile.east\n",
      "BaseTile.east\n",
      "player 3\n"
     ]
    }
   ],
   "source": [
    "## Check tiles\n",
    "for p in range(4):\n",
    "    hand = t.players[p].hand\n",
    "    print('player {}'.format(p))\n",
    "    for k in range(len(hand)):\n",
    "        print(hand[k].tile)\n",
    "for p in range(4):\n",
    "    fulus = t.players[p].fulus\n",
    "    print('player {}'.format(p))\n",
    "    for k in range(len(fulus)):\n",
    "        for m in range(len(fulus[k].tiles)):\n",
    "            print(fulus[k].tiles[m].tile)"
   ]
  },
  {
   "cell_type": "code",
   "execution_count": null,
   "metadata": {},
   "outputs": [],
   "source": [
    "fulus[1]"
   ]
  },
  {
   "cell_type": "code",
   "execution_count": null,
   "metadata": {},
   "outputs": [],
   "source": [
    "t.players[2].fulus[0].tiles"
   ]
  },
  {
   "cell_type": "code",
   "execution_count": null,
   "metadata": {},
   "outputs": [],
   "source": [
    "fulus1"
   ]
  },
  {
   "cell_type": "code",
   "execution_count": null,
   "metadata": {},
   "outputs": [],
   "source": [
    "fulus1[0].take"
   ]
  },
  {
   "cell_type": "code",
   "execution_count": null,
   "metadata": {},
   "outputs": [],
   "source": [
    "t.get_selected_action_tile()"
   ]
  },
  {
   "cell_type": "code",
   "execution_count": null,
   "metadata": {},
   "outputs": [],
   "source": [
    "t.last_"
   ]
  },
  {
   "cell_type": "code",
   "execution_count": null,
   "metadata": {},
   "outputs": [],
   "source": [
    "mp.Action."
   ]
  },
  {
   "cell_type": "code",
   "execution_count": null,
   "metadata": {},
   "outputs": [],
   "source": [
    "t.DORA[0].tile"
   ]
  },
  {
   "cell_type": "code",
   "execution_count": null,
   "metadata": {},
   "outputs": [],
   "source": [
    "t.AKADORA"
   ]
  },
  {
   "cell_type": "code",
   "execution_count": null,
   "metadata": {},
   "outputs": [],
   "source": [
    "t.players[2].river.river[1].fromhand"
   ]
  },
  {
   "cell_type": "code",
   "execution_count": null,
   "metadata": {},
   "outputs": [],
   "source": [
    "## Check tiles\n",
    "for p in range(4):\n",
    "    hand = t.players[p].hand\n",
    "    print('player {}'.format(p))\n",
    "    for k in range(len(hand)):\n",
    "        print(hand[k].tile)\n",
    "for p in range(4):\n",
    "    fulus = t.players[p].fulus\n",
    "    print('player {}'.format(p))\n",
    "    for k in range(len(fulus)):\n",
    "        for m in range(len(fulus[k].tiles)):\n",
    "            print(fulus[k].tiles[m].tile)\n",
    "        print(fulus[k].take)"
   ]
  },
  {
   "cell_type": "code",
   "execution_count": null,
   "metadata": {},
   "outputs": [],
   "source": [
    "int(mp.BaseTile._5s)"
   ]
  },
  {
   "cell_type": "code",
   "execution_count": null,
   "metadata": {},
   "outputs": [],
   "source": []
  }
 ],
 "metadata": {
  "kernelspec": {
   "display_name": "Python 3",
   "language": "python",
   "name": "python3"
  },
  "language_info": {
   "codemirror_mode": {
    "name": "ipython",
    "version": 3
   },
   "file_extension": ".py",
   "mimetype": "text/x-python",
   "name": "python",
   "nbconvert_exporter": "python",
   "pygments_lexer": "ipython3",
   "version": "3.6.2"
  }
 },
 "nbformat": 4,
 "nbformat_minor": 2
}
